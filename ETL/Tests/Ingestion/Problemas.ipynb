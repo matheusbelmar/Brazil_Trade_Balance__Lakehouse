{
 "cells": [
  {
   "cell_type": "markdown",
   "metadata": {},
   "source": [
    "- Postgres inacessível do REST\n",
    "- Host incorreto (postgres vs localhost vs outro alias)\n",
    "- Porta bloqueada\n",
    "- Credenciais incorretas\n",
    "- Schema/tabelas do Postgres não criadas\n",
    "- Iceberg REST espera tabelas específicas (catalog_entries, snapshots)\n",
    "- Se o banco é novo, talvez o REST não inicializou corretamente essas tabelas\n",
    "- Configuração do JDBC no REST errada\n",
    "- CATALOG_URI=jdbc:postgresql://postgres/demo_catalog → o host postgres precisa ser resolvível dentro do container REST (confira ping postgres)\n",
    "- Credenciais: usuário admin, senha password"
   ]
  }
 ],
 "metadata": {
  "language_info": {
   "name": "python"
  }
 },
 "nbformat": 4,
 "nbformat_minor": 2
}
